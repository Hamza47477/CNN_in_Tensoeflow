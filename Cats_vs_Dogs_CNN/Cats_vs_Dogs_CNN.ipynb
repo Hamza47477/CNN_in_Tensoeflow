{
  "cells": [
    {
      "cell_type": "markdown",
      "id": "a10bc2ee",
      "metadata": {
        "id": "a10bc2ee"
      },
      "source": [
        "# Using CNN's with the Cats vs Dogs Dataset"
      ]
    },
    {
      "cell_type": "code",
      "execution_count": 1,
      "id": "d43abc49",
      "metadata": {
        "id": "d43abc49",
        "tags": [
          "graded"
        ]
      },
      "outputs": [],
      "source": [
        "\n",
        "\n",
        "import os\n",
        "import zipfile\n",
        "import random\n",
        "import shutil\n",
        "import tensorflow as tf\n",
        "from tensorflow.keras.preprocessing.image import ImageDataGenerator\n",
        "from shutil import copyfile\n",
        "import matplotlib.pyplot as plt"
      ]
    },
    {
      "cell_type": "markdown",
      "id": "0000eebe",
      "metadata": {
        "id": "0000eebe"
      },
      "source": [
        "Download the dataset from its original source by running the cell below.\n",
        "\n",
        "Note that the `zip` file that contains the images is unzipped under the `/tmp` directory."
      ]
    },
    {
      "cell_type": "code",
      "execution_count": 2,
      "id": "dfe8528d",
      "metadata": {
        "colab": {
          "base_uri": "https://localhost:8080/"
        },
        "id": "dfe8528d",
        "lines_to_next_cell": 2,
        "outputId": "2a38e16a-30f7-4c86-c177-bc46b1958eef",
        "tags": []
      },
      "outputs": [
        {
          "name": "stdout",
          "output_type": "stream",
          "text": [
            "--2023-12-17 06:02:57--  https://download.microsoft.com/download/3/E/1/3E1C3F21-ECDB-4869-8368-6DEBA77B919F/kagglecatsanddogs_5340.zip\n",
            "Resolving download.microsoft.com (download.microsoft.com)... 184.25.248.114, 2600:1417:3f:580::317f, 2600:1417:3f:59b::317f\n",
            "Connecting to download.microsoft.com (download.microsoft.com)|184.25.248.114|:443... connected.\n",
            "HTTP request sent, awaiting response... 200 OK\n",
            "Length: 824887076 (787M) [application/octet-stream]\n",
            "Saving to: ‘/tmp/cats-and-dogs.zip’\n",
            "\n",
            "/tmp/cats-and-dogs. 100%[===================>] 786.67M   112MB/s    in 6.2s    \n",
            "\n",
            "2023-12-17 06:03:04 (126 MB/s) - ‘/tmp/cats-and-dogs.zip’ saved [824887076/824887076]\n",
            "\n"
          ]
        }
      ],
      "source": [
        "# If the URL doesn't work, visit https://www.microsoft.com/en-us/download/confirmation.aspx?id=54765\n",
        "# And right click on the 'Download Manually' link to get a new URL to the dataset\n",
        "\n",
        "# Note: This is a very large dataset and will take some time to download\n",
        "\n",
        "!wget --no-check-certificate \\\n",
        "    \"https://download.microsoft.com/download/3/E/1/3E1C3F21-ECDB-4869-8368-6DEBA77B919F/kagglecatsanddogs_5340.zip\" \\\n",
        "    -O \"/tmp/cats-and-dogs.zip\"\n",
        "\n",
        "local_zip = '/tmp/cats-and-dogs.zip'\n",
        "zip_ref   = zipfile.ZipFile(local_zip, 'r')\n",
        "zip_ref.extractall('/tmp')\n",
        "zip_ref.close()"
      ]
    },
    {
      "cell_type": "markdown",
      "id": "4dd9f52b",
      "metadata": {
        "id": "4dd9f52b"
      },
      "source": [
        "Now the images are stored within the `/tmp/PetImages` directory. There is a subdirectory for each class, so one for dogs and one for cats."
      ]
    },
    {
      "cell_type": "code",
      "execution_count": 3,
      "id": "76034c9d",
      "metadata": {
        "colab": {
          "base_uri": "https://localhost:8080/"
        },
        "id": "76034c9d",
        "outputId": "8902b816-d402-4889-dd93-990eea14e76c",
        "tags": [
          "graded"
        ]
      },
      "outputs": [
        {
          "name": "stdout",
          "output_type": "stream",
          "text": [
            "There are 12500 images of dogs.\n",
            "There are 12500 images of cats.\n"
          ]
        }
      ],
      "source": [
        "\n",
        "source_path = '/tmp/PetImages'\n",
        "\n",
        "source_path_dogs = os.path.join(source_path, 'Dog')\n",
        "source_path_cats = os.path.join(source_path, 'Cat')\n",
        "\n",
        "# Deletes all non-image files (there are two .db files bundled into the dataset)\n",
        "!find /tmp/PetImages/ -type f ! -name \"*.jpg\" -exec rm {} +\n",
        "\n",
        "# os.listdir returns a list containing all files under the given path\n",
        "print(f\"There are {len(os.listdir(source_path_dogs))} images of dogs.\")\n",
        "print(f\"There are {len(os.listdir(source_path_cats))} images of cats.\")"
      ]
    },
    {
      "cell_type": "markdown",
      "id": "6753b45c",
      "metadata": {
        "id": "6753b45c"
      },
      "source": [
        "You will need a directory for cats-v-dogs, and subdirectories for training\n",
        "and validation. These in turn will need subdirectories for 'cats' and 'dogs'. To accomplish this, complete the `create_train_val_dirs` below:"
      ]
    },
    {
      "cell_type": "code",
      "execution_count": 4,
      "id": "1e6c840a",
      "metadata": {
        "cellView": "code",
        "colab": {
          "base_uri": "https://localhost:8080/"
        },
        "id": "1e6c840a",
        "outputId": "798ce037-6b94-4978-9310-9d70c0bad9a7",
        "tags": [
          "graded"
        ]
      },
      "outputs": [
        {
          "name": "stdout",
          "output_type": "stream",
          "text": [
            "Creating '/tmp/cats-v-dogs' directory.\n",
            "Training directory created as '/tmp/cats-v-dogs/training'.\n",
            "Testing directory created as '/tmp/cats-v-dogs/testing'.\n",
            "Creating the subfolders for storing cats and dogs images.\n",
            "'/tmp/cats-v-dogs/training/cats' and '/tmp/cats-v-dogs/training/dogs' created.\n",
            "'/tmp/cats-v-dogs/testing/cats' and '/tmp/cats-v-dogs/testing/dogs' created.\n"
          ]
        }
      ],
      "source": [
        "# Define root directory\n",
        "root_dir = '/tmp/cats-v-dogs'\n",
        "\n",
        "# Empty directory to prevent FileExistsError is the function is run several times\n",
        "if os.path.exists(root_dir):\n",
        "  shutil.rmtree(root_dir)\n",
        "\n",
        "\n",
        "def create_train_test_dirs(root_path):\n",
        "  \n",
        "  print(f\"Creating \\'{root_path}\\' directory.\")\n",
        "\n",
        "  os.makedirs(root_path)\n",
        "\n",
        "  training_dir = os.path.join(root_path, 'training')\n",
        "\n",
        "  os.makedirs(training_dir)\n",
        "  \n",
        "  print(f\"Training directory created as \\'{training_dir}\\'.\")\n",
        "\n",
        "  testing_dir = os.path.join(root_path, 'testing')\n",
        "\n",
        "  os.makedirs(testing_dir)\n",
        "  \n",
        "  print(f\"Testing directory created as \\'{testing_dir}\\'.\")\n",
        "\n",
        "  print(\"Creating the subfolders for storing cats and dogs images.\")\n",
        "\n",
        "  training_cats_dir = os.path.join(training_dir, 'cats')\n",
        "  \n",
        "  training_dogs_dir = os.path.join(training_dir, 'dogs')\n",
        "\n",
        "  os.makedirs(training_cats_dir)\n",
        "  \n",
        "  os.makedirs(training_dogs_dir)\n",
        "  \n",
        "  print(f\"\\'{training_cats_dir}\\' and \\'{training_dogs_dir}\\' created.\")\n",
        "\n",
        "  testing_cats_dir = os.path.join(testing_dir, 'cats')\n",
        "  \n",
        "  testing_dogs_dir = os.path.join(testing_dir, 'dogs')\n",
        "\n",
        "  os.makedirs(testing_cats_dir)\n",
        "  \n",
        "  os.makedirs(testing_dogs_dir)\n",
        "  \n",
        "  print(f\"\\'{testing_cats_dir}\\' and \\'{testing_dogs_dir}\\' created.\")\n",
        "\n",
        "  pass\n",
        "\n",
        "try:\n",
        "  \n",
        "  create_train_test_dirs(root_path=root_dir)\n",
        "  \n",
        "except FileExistsError:\n",
        "  \n",
        "  print(\"You should not be seeing this since the upper directory is removed beforehand\")"
      ]
    },
    {
      "cell_type": "code",
      "execution_count": 5,
      "id": "08f735fe",
      "metadata": {
        "colab": {
          "base_uri": "https://localhost:8080/"
        },
        "id": "08f735fe",
        "outputId": "008f9ade-79b4-4c2e-dd03-45ca98ce42d4",
        "tags": [
          "graded"
        ]
      },
      "outputs": [
        {
          "name": "stdout",
          "output_type": "stream",
          "text": [
            "/tmp/cats-v-dogs/training\n",
            "/tmp/cats-v-dogs/testing\n",
            "/tmp/cats-v-dogs/training/dogs\n",
            "/tmp/cats-v-dogs/training/cats\n",
            "/tmp/cats-v-dogs/testing/dogs\n",
            "/tmp/cats-v-dogs/testing/cats\n"
          ]
        }
      ],
      "source": [
        "\n",
        "for rootdir, dirs, files in os.walk(root_dir):\n",
        "    \n",
        "    for subdir in dirs:\n",
        "        print(os.path.join(rootdir, subdir))"
      ]
    },
    {
      "cell_type": "code",
      "execution_count": 6,
      "id": "e1c123a7",
      "metadata": {
        "cellView": "code",
        "id": "e1c123a7",
        "tags": [
          "graded"
        ]
      },
      "outputs": [],
      "source": [
        "\n",
        "def split_data(SOURCE, TRAINING, TESTING, SPLIT_SIZE):\n",
        "\n",
        "  import numpy as np\n",
        "\n",
        "  #Get a list containing the contents of the SOURCE directory:\n",
        "  files_list = os.listdir(SOURCE)\n",
        "\n",
        "  total_files = len(files_list)\n",
        "\n",
        "  #Get total of files used for training:\n",
        "  total_training_files = int(np.rint(SPLIT_SIZE * total_files))\n",
        "\n",
        "  #Get total of files used for testing:\n",
        "  total_testing_files = total_files - total_training_files\n",
        "\n",
        "\n",
        "  #Create a list of the files used for training, by sampling the files_list:\n",
        "  training_files = random.sample(files_list, total_training_files)\n",
        "\n",
        "  #Create a list of the files used for testing.\n",
        "  \n",
        "  testing_files = []\n",
        "\n",
        "  #Loop through each element (named 'file') of the original files_list:\n",
        "  for file in files_list:\n",
        "\n",
        "      #create a boolean checker, that can be either True or False:\n",
        "      bool_check = file in training_files\n",
        "\n",
        "      if (bool_check == False):\n",
        "\n",
        "        testing_files.append(file)\n",
        "\n",
        "  list_of_substrings = SOURCE.split(sep = \"/\")\n",
        "\n",
        "  file_class = list_of_substrings[(len(list_of_substrings) - 1)]\n",
        "\n",
        "  for file in training_files:\n",
        "\n",
        "    #Retrieve the full file path, by joining the file name to the SOURCE path:\n",
        "    \n",
        "    file_path = os.path.join(SOURCE, file)\n",
        "    \n",
        "    #Get the file size:\n",
        "    \n",
        "    file_size = os.path.getsize(file_path)\n",
        "\n",
        "    #Check if the size is higher than zero (non-empty images):\n",
        "    \n",
        "    if (file_size > 0):\n",
        "\n",
        "        new_path = os.path.join(TRAINING, file)\n",
        "        \n",
        "        #2. Copy the file to this new file path:\n",
        "        copyfile(file_path, new_path)\n",
        "\n",
        "    else:\n",
        "      printed_msg = file + \" is zero length, so ignoring.\"\n",
        "      \n",
        "      print(printed_msg)\n",
        "      \n",
        "  #Loop through each element (named 'file') of the 'testing_files' list:\n",
        "  for file in testing_files:\n",
        "\n",
        "    #Retrieve the full file path, by joining the file name to the SOURCE path:\n",
        "    file_path = os.path.join(SOURCE, file)\n",
        "    #Get the file size:\n",
        "    file_size = os.path.getsize(file_path)\n",
        "\n",
        "    #Check if the size is higher than zero (non-empty images):\n",
        "    if (file_size > 0):\n",
        "\n",
        "        new_path = os.path.join(TESTING, file)\n",
        "\n",
        "        copyfile(file_path, new_path)\n",
        "\n",
        "    else:\n",
        "      #print the message for the zero-sized file\n",
        "      \n",
        "      printed_msg = file + \" is zero length, so ignoring.\"\n",
        "      print(printed_msg)\n",
        "\n",
        "  pass\n"
      ]
    },
    {
      "cell_type": "code",
      "execution_count": 8,
      "id": "7f488106",
      "metadata": {
        "colab": {
          "base_uri": "https://localhost:8080/"
        },
        "id": "7f488106",
        "outputId": "388ced73-7292-40c5-e06a-60fb24a9b0dc",
        "tags": [
          "graded"
        ]
      },
      "outputs": [
        {
          "name": "stdout",
          "output_type": "stream",
          "text": [
            "666.jpg is zero length, so ignoring.\n",
            "11702.jpg is zero length, so ignoring.\n",
            "\n",
            "\n",
            "There are 11249 images of cats for training\n",
            "There are 11249 images of dogs for training\n",
            "There are 1250 images of cats for testing\n",
            "There are 1250 images of dogs for testing\n"
          ]
        }
      ],
      "source": [
        "\n",
        "# Define paths\n",
        "CAT_SOURCE_DIR = \"/tmp/PetImages/Cat/\"\n",
        "DOG_SOURCE_DIR = \"/tmp/PetImages/Dog/\"\n",
        "\n",
        "TRAINING_DIR = \"/tmp/cats-v-dogs/training/\"\n",
        "TESTING_DIR = \"/tmp/cats-v-dogs/testing/\"\n",
        "\n",
        "TRAINING_CATS_DIR = os.path.join(TRAINING_DIR, \"cats/\")\n",
        "TESTING_CATS_DIR = os.path.join(TESTING_DIR, \"cats/\")\n",
        "\n",
        "TRAINING_DOGS_DIR = os.path.join(TRAINING_DIR, \"dogs/\")\n",
        "TESTING_DOGS_DIR = os.path.join(TESTING_DIR, \"dogs/\")\n",
        "\n",
        "# Empty directories in case you run this cell multiple times\n",
        "if len(os.listdir(TRAINING_CATS_DIR)) > 0:\n",
        "  for file in os.scandir(TRAINING_CATS_DIR):\n",
        "    os.remove(file.path)\n",
        "if len(os.listdir(TRAINING_DOGS_DIR)) > 0:\n",
        "  for file in os.scandir(TRAINING_DOGS_DIR):\n",
        "    os.remove(file.path)\n",
        "if len(os.listdir(TESTING_CATS_DIR)) > 0:\n",
        "  for file in os.scandir(TESTING_CATS_DIR):\n",
        "    os.remove(file.path)\n",
        "if len(os.listdir(TESTING_DOGS_DIR)) > 0:\n",
        "  for file in os.scandir(TESTING_DOGS_DIR):\n",
        "    os.remove(file.path)\n",
        "\n",
        "# Define proportion of images used for training\n",
        "split_size = .9\n",
        "\n",
        "split_data(CAT_SOURCE_DIR, TRAINING_CATS_DIR, TESTING_CATS_DIR, split_size)\n",
        "split_data(DOG_SOURCE_DIR, TRAINING_DOGS_DIR, TESTING_DOGS_DIR, split_size)\n",
        "\n",
        "print(f\"\\n\\nThere are {len(os.listdir(TRAINING_CATS_DIR))} images of cats for training\")\n",
        "print(f\"There are {len(os.listdir(TRAINING_DOGS_DIR))} images of dogs for training\")\n",
        "print(f\"There are {len(os.listdir(TESTING_CATS_DIR))} images of cats for testing\")\n",
        "print(f\"There are {len(os.listdir(TESTING_DOGS_DIR))} images of dogs for testing\")"
      ]
    },
    {
      "cell_type": "code",
      "execution_count": 9,
      "id": "24714cb2",
      "metadata": {
        "cellView": "code",
        "id": "24714cb2",
        "tags": [
          "graded"
        ]
      },
      "outputs": [],
      "source": [
        "def train_val_generators(TRAINING_DIR, VALIDATION_DIR):\n",
        "\n",
        "  from tensorflow.keras.preprocessing.image import ImageDataGenerator\n",
        "\n",
        "  train_datagen = ImageDataGenerator(rescale = (1.0)/(255.))\n",
        "\n",
        "  train_generator = train_datagen.flow_from_directory(directory = TRAINING_DIR,\n",
        "                                                      batch_size = 200,\n",
        "                                                      class_mode = \"binary\",\n",
        "                                                      target_size = (150, 150))\n",
        "\n",
        "  validation_datagen = ImageDataGenerator(rescale = (1.0)/(255.))\n",
        "\n",
        "\n",
        "  validation_generator = validation_datagen.flow_from_directory(directory = VALIDATION_DIR,\n",
        "                                                                batch_size = 20,\n",
        "                                                                class_mode = \"binary\",\n",
        "                                                                target_size = (150, 150))\n",
        "\n",
        "  return train_generator, validation_generator"
      ]
    },
    {
      "cell_type": "code",
      "execution_count": 11,
      "id": "0a13c894",
      "metadata": {
        "colab": {
          "base_uri": "https://localhost:8080/"
        },
        "id": "0a13c894",
        "outputId": "598ae002-7fbc-4c92-8a7a-3d132d7d5c50",
        "tags": [
          "graded"
        ]
      },
      "outputs": [
        {
          "name": "stdout",
          "output_type": "stream",
          "text": [
            "Found 22498 images belonging to 2 classes.\n",
            "Found 2500 images belonging to 2 classes.\n"
          ]
        }
      ],
      "source": [
        "\n",
        "train_generator, validation_generator = train_val_generators(TRAINING_DIR, TESTING_DIR)"
      ]
    },
    {
      "cell_type": "code",
      "execution_count": 12,
      "id": "2141d195",
      "metadata": {
        "cellView": "code",
        "id": "2141d195",
        "lines_to_next_cell": 2,
        "tags": [
          "graded"
        ]
      },
      "outputs": [],
      "source": [
        "\n",
        "def create_model():\n",
        "\n",
        "  model = tf.keras.models.Sequential([\n",
        "\n",
        "    tf.keras.layers.Conv2D(16, (3,3), activation='relu', input_shape=(150, 150, 3)),\n",
        "    \n",
        "    tf.keras.layers.MaxPooling2D(2,2),\n",
        "\n",
        "    tf.keras.layers.Conv2D(32, (3,3), activation='relu'),\n",
        "\n",
        "    tf.keras.layers.MaxPooling2D(2,2),\n",
        "\n",
        "    tf.keras.layers.Conv2D(64, (3,3), activation='relu'),\n",
        "\n",
        "    tf.keras.layers.MaxPooling2D(2,2),\n",
        "\n",
        "    tf.keras.layers.Conv2D(32, (3,3), activation='relu'),\n",
        "\n",
        "    tf.keras.layers.MaxPooling2D(2,2),\n",
        "\n",
        "    tf.keras.layers.Flatten(),\n",
        "\n",
        "    tf.keras.layers.Dense(512, activation='relu'),\n",
        "\n",
        "    tf.keras.layers.Dense(1, activation='sigmoid')\n",
        "  ])\n",
        "\n",
        "  model.compile(optimizer = 'adam',\n",
        "                loss = 'binary_crossentropy',\n",
        "                metrics=['accuracy'])\n",
        "\n",
        "\n",
        "  return model"
      ]
    },
    {
      "cell_type": "markdown",
      "id": "5fe2ed9f",
      "metadata": {
        "id": "5fe2ed9f"
      },
      "source": [
        "Now it is time to train your model!\n",
        "\n",
        "**Note:** You can ignore the `UserWarning: Possibly corrupt EXIF data.` warnings."
      ]
    },
    {
      "cell_type": "code",
      "execution_count": 13,
      "id": "87cbef80",
      "metadata": {
        "colab": {
          "base_uri": "https://localhost:8080/"
        },
        "id": "87cbef80",
        "outputId": "54dad17e-9084-403b-de24-7c99ef4ae710",
        "tags": []
      },
      "outputs": [
        {
          "name": "stdout",
          "output_type": "stream",
          "text": [
            "Epoch 1/15\n",
            " 26/113 [=====>........................] - ETA: 37s - loss: 0.6730 - accuracy: 0.5723"
          ]
        },
        {
          "name": "stderr",
          "output_type": "stream",
          "text": [
            "/usr/local/lib/python3.10/dist-packages/PIL/TiffImagePlugin.py:858: UserWarning: Truncated File Read\n",
            "  warnings.warn(str(msg))\n"
          ]
        },
        {
          "name": "stdout",
          "output_type": "stream",
          "text": [
            "113/113 [==============================] - 62s 479ms/step - loss: 0.6049 - accuracy: 0.6572 - val_loss: 0.5235 - val_accuracy: 0.7452\n",
            "Epoch 2/15\n",
            "113/113 [==============================] - 53s 465ms/step - loss: 0.4844 - accuracy: 0.7668 - val_loss: 0.4773 - val_accuracy: 0.7872\n",
            "Epoch 3/15\n",
            "113/113 [==============================] - 53s 465ms/step - loss: 0.4338 - accuracy: 0.7967 - val_loss: 0.4303 - val_accuracy: 0.8080\n",
            "Epoch 4/15\n",
            "113/113 [==============================] - 55s 490ms/step - loss: 0.3911 - accuracy: 0.8236 - val_loss: 0.4107 - val_accuracy: 0.8164\n",
            "Epoch 5/15\n",
            "113/113 [==============================] - 53s 466ms/step - loss: 0.3533 - accuracy: 0.8430 - val_loss: 0.3916 - val_accuracy: 0.8296\n",
            "Epoch 6/15\n",
            "113/113 [==============================] - 53s 466ms/step - loss: 0.3231 - accuracy: 0.8604 - val_loss: 0.3889 - val_accuracy: 0.8292\n",
            "Epoch 7/15\n",
            "113/113 [==============================] - 53s 473ms/step - loss: 0.3103 - accuracy: 0.8659 - val_loss: 0.3773 - val_accuracy: 0.8348\n",
            "Epoch 8/15\n",
            "113/113 [==============================] - 53s 473ms/step - loss: 0.2777 - accuracy: 0.8814 - val_loss: 0.3678 - val_accuracy: 0.8388\n",
            "Epoch 9/15\n",
            "113/113 [==============================] - 52s 464ms/step - loss: 0.2550 - accuracy: 0.8919 - val_loss: 0.3619 - val_accuracy: 0.8480\n",
            "Epoch 10/15\n",
            "113/113 [==============================] - 54s 474ms/step - loss: 0.2400 - accuracy: 0.8976 - val_loss: 0.3630 - val_accuracy: 0.8524\n",
            "Epoch 11/15\n",
            "113/113 [==============================] - 52s 457ms/step - loss: 0.2066 - accuracy: 0.9153 - val_loss: 0.3384 - val_accuracy: 0.8572\n",
            "Epoch 12/15\n",
            "113/113 [==============================] - 52s 461ms/step - loss: 0.1816 - accuracy: 0.9274 - val_loss: 0.3432 - val_accuracy: 0.8568\n",
            "Epoch 13/15\n",
            "113/113 [==============================] - 51s 455ms/step - loss: 0.1504 - accuracy: 0.9424 - val_loss: 0.3634 - val_accuracy: 0.8520\n",
            "Epoch 14/15\n",
            "113/113 [==============================] - 52s 457ms/step - loss: 0.1428 - accuracy: 0.9427 - val_loss: 0.3818 - val_accuracy: 0.8608\n",
            "Epoch 15/15\n",
            "113/113 [==============================] - 51s 454ms/step - loss: 0.1064 - accuracy: 0.9594 - val_loss: 0.3859 - val_accuracy: 0.8652\n"
          ]
        }
      ],
      "source": [
        "\n",
        "model = create_model()\n",
        "\n",
        "history = model.fit(train_generator,\n",
        "                    epochs=15,\n",
        "                    verbose=1,\n",
        "                    validation_data=validation_generator)"
      ]
    },
    {
      "cell_type": "code",
      "execution_count": 14,
      "id": "32146607",
      "metadata": {
        "colab": {
          "base_uri": "https://localhost:8080/",
          "height": 882
        },
        "id": "32146607",
        "outputId": "8208aea2-fb01-4848-d96e-b240259a927a",
        "tags": []
      },
      "outputs": [
        {
          "data": {
            "image/png": "[encoded data removed]",
            "text/plain": [
              "<Figure size 640x480 with 1 Axes>"
            ]
          },
          "metadata": {},
          "output_type": "display_data"
        },
        {
          "name": "stdout",
          "output_type": "stream",
          "text": [
            "\n"
          ]
        },
        {
          "data": {
            "image/png": "[encoded data removed]",
            "text/plain": [
              "<Figure size 640x480 with 1 Axes>"
            ]
          },
          "metadata": {},
          "output_type": "display_data"
        }
      ],
      "source": [
        "\n",
        "acc=history.history['accuracy']\n",
        "\n",
        "val_acc=history.history['val_accuracy']\n",
        "\n",
        "loss=history.history['loss']\n",
        "\n",
        "val_loss=history.history['val_loss']\n",
        "\n",
        "epochs=range(len(acc)) # Get number of epochs\n",
        "\n",
        "#------------------------------------------------\n",
        "# Plot training and validation accuracy per epoch\n",
        "#------------------------------------------------\n",
        "\n",
        "plt.plot(epochs, acc, 'r', \"Training Accuracy\")\n",
        "\n",
        "plt.plot(epochs, val_acc, 'b', \"Validation Accuracy\")\n",
        "\n",
        "plt.title('Training and validation accuracy')\n",
        "\n",
        "plt.show()\n",
        "\n",
        "print(\"\")\n",
        "\n",
        "#------------------------------------------------\n",
        "# Plot training and validation loss per epoch\n",
        "#------------------------------------------------\n",
        "\n",
        "plt.plot(epochs, loss, 'r', \"Training Loss\")\n",
        "\n",
        "plt.plot(epochs, val_loss, 'b', \"Validation Loss\")\n",
        "\n",
        "plt.show()"
      ]
    }
  ],
  "metadata": {
    "accelerator": "GPU",
    "colab": {
      "provenance": []
    },
    "kernelspec": {
      "display_name": "Python 3",
      "language": "python",
      "name": "python3"
    },
    "language_info": {
      "codemirror_mode": {
        "name": "ipython",
        "version": 3
      },
      "file_extension": ".py",
      "mimetype": "text/x-python",
      "name": "python",
      "nbconvert_exporter": "python",
      "pygments_lexer": "ipython3",
      "version": "3.7.4"
    }
  },
  "nbformat": 4,
  "nbformat_minor": 5
}
